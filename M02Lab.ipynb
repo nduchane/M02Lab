{
 "cells": [
  {
   "cell_type": "markdown",
   "id": "6d4407f4",
   "metadata": {},
   "source": [
    "Nicholas DuChane"
   ]
  },
  {
   "cell_type": "markdown",
   "id": "4d6c1ad5",
   "metadata": {},
   "source": [
    "M02Lab"
   ]
  },
  {
   "cell_type": "markdown",
   "id": "65bd1059",
   "metadata": {},
   "source": [
    "Student test to for Dean's list or Honor roll"
   ]
  },
  {
   "cell_type": "code",
   "execution_count": 2,
   "id": "b0e75324",
   "metadata": {},
   "outputs": [
    {
     "name": "stdout",
     "output_type": "stream",
     "text": [
      "Please enter the sudents last name.\n",
      "Press \"ZZZ\" to exit the program.\n",
      "duchane\n",
      "What is their GPA?\n",
      "3.9\n",
      "duchane has made the Honor Roll.\n",
      "duchane has also made the Dean's List\n",
      "Please enter the sudents last name.\n",
      "Press \"ZZZ\" to exit the program.\n",
      "greg\n",
      "What is their GPA?\n",
      "3.4\n",
      "greg has made the Honor Roll.\n",
      "Please enter the sudents last name.\n",
      "Press \"ZZZ\" to exit the program.\n",
      "toph\n",
      "What is their GPA?\n",
      "3.3\n",
      "toph has made the Honor Roll.\n",
      "Please enter the sudents last name.\n",
      "Press \"ZZZ\" to exit the program.\n",
      "fref\n",
      "What is their GPA?\n",
      "2.3\n",
      "Please enter the sudents last name.\n",
      "Press \"ZZZ\" to exit the program.\n",
      "Nicky\n",
      "What is their GPA?\n",
      "1.3\n",
      "Please enter the sudents last name.\n",
      "Press \"ZZZ\" to exit the program.\n",
      "ZZZ\n"
     ]
    }
   ],
   "source": [
    "while True:\n",
    "    print('Please enter the sudents last name.')\n",
    "    print('Press \"ZZZ\" to exit the program.')\n",
    "    lName = input()\n",
    "    if lName == 'ZZZ':\n",
    "        break\n",
    "    print('What is their GPA?')\n",
    "    gpa = float(input())\n",
    "    if gpa > 3.25:\n",
    "        print(lName + \" has made the Honor Roll.\")\n",
    "    if gpa > 3.5:\n",
    "        print(lName + \" has also made the Dean\\'s List\")"
   ]
  },
  {
   "cell_type": "code",
   "execution_count": null,
   "id": "46bce1f7",
   "metadata": {},
   "outputs": [],
   "source": []
  }
 ],
 "metadata": {
  "kernelspec": {
   "display_name": "Python 3 (ipykernel)",
   "language": "python",
   "name": "python3"
  },
  "language_info": {
   "codemirror_mode": {
    "name": "ipython",
    "version": 3
   },
   "file_extension": ".py",
   "mimetype": "text/x-python",
   "name": "python",
   "nbconvert_exporter": "python",
   "pygments_lexer": "ipython3",
   "version": "3.9.12"
  }
 },
 "nbformat": 4,
 "nbformat_minor": 5
}
